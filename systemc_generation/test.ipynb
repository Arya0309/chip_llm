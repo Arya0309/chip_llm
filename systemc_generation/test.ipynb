{
 "cells": [
  {
   "cell_type": "code",
   "execution_count": 1,
   "metadata": {},
   "outputs": [
    {
     "name": "stdout",
     "output_type": "stream",
     "text": [
      "/home/S113062628/project/chip_llm/systemc_generation/dataset/geek/output/DecimaltoHexadecimalConversion.cpp/main.cpp\n",
      "/home/S113062628/project/chip_llm/systemc_generation/dataset/geek/output/SortanArray_InsertionSort.cpp/main.cpp\n",
      "/home/S113062628/project/chip_llm/systemc_generation/dataset/geek/output/PrintMultiplicationTableofaNumber.cpp/main.cpp\n",
      "/home/S113062628/project/chip_llm/systemc_generation/dataset/geek/output/CopyAlltheElementsofOneArraytoAnotherintheReverseOrder.cpp/main.cpp\n",
      "/home/S113062628/project/chip_llm/systemc_generation/dataset/geek/output/CalculateSumofFirstnNaturalNumbers.cpp/main.cpp\n",
      "/home/S113062628/project/chip_llm/systemc_generation/dataset/geek/output/DisplayPrimeNumbersBetweenTwoIntervals.cpp/main.cpp\n",
      "/home/S113062628/project/chip_llm/systemc_generation/dataset/geek/output/OctaltoDecimalConversion.cpp/main.cpp\n",
      "/home/S113062628/project/chip_llm/systemc_generation/dataset/geek/output/SearchanElementinanArray_BinarySearch.cpp/main.cpp\n",
      "/home/S113062628/project/chip_llm/systemc_generation/dataset/geek/output/SumofFibonacciNumbersatEvenIndexesuptoNTerms.cpp/main.cpp\n",
      "/home/S113062628/project/chip_llm/systemc_generation/dataset/geek/output/CheckWhetheraNumberisPrimeorNot.cpp/main.cpp\n",
      "/home/S113062628/project/chip_llm/systemc_generation/dataset/geek/output/SorttheElementsofanArrayinDescendingOrder.cpp/main.cpp\n",
      "/home/S113062628/project/chip_llm/systemc_generation/dataset/geek/output/InterchangeElementsofFirstAndLastColumnsInMatrix.cpp/main.cpp\n",
      "/home/S113062628/project/chip_llm/systemc_generation/dataset/geek/output/AddTwoMatrices.cpp/main.cpp\n",
      "/home/S113062628/project/chip_llm/systemc_generation/dataset/geek/output/CheckifaGivenYearisaLeapYear.cpp/main.cpp\n",
      "/home/S113062628/project/chip_llm/systemc_generation/dataset/geek/output/CalculatetheAverageofalltheElementsPresentinanArray.cpp/main.cpp\n",
      "/home/S113062628/project/chip_llm/systemc_generation/dataset/geek/output/CheckWhetheraNumberCanbeExpressedasSumofTwoPrimeNumbers.cpp/main.cpp\n",
      "/home/S113062628/project/chip_llm/systemc_generation/dataset/geek/output/MergeSort.cpp/main.cpp\n",
      "/home/S113062628/project/chip_llm/systemc_generation/dataset/geek/output/Swaptwonumbers.cpp/main.cpp\n",
      "/home/S113062628/project/chip_llm/systemc_generation/dataset/geek/output/FibonacciNumber.cpp/main.cpp\n",
      "/home/S113062628/project/chip_llm/systemc_generation/dataset/geek/output/FindCommonArrayElements.cpp/main.cpp\n",
      "/home/S113062628/project/chip_llm/systemc_generation/dataset/geek/output/FindGCD.cpp/main.cpp\n",
      "/home/S113062628/project/chip_llm/systemc_generation/dataset/geek/output/CheckEvenorOddIntegers.cpp/main.cpp\n",
      "/home/S113062628/project/chip_llm/systemc_generation/dataset/geek/output/DisplayPrimeNumbersBetweenTwoIntervalsUsingFunction.cpp/main.cpp\n",
      "/home/S113062628/project/chip_llm/systemc_generation/dataset/geek/output/AddTwoComplexNumbers.cpp/main.cpp\n",
      "/home/S113062628/project/chip_llm/systemc_generation/dataset/geek/output/PrintPascalsTriangle.cpp/main.cpp\n",
      "/home/S113062628/project/chip_llm/systemc_generation/dataset/geek/output/Sortthe2DArrayAcrossRows.cpp/main.cpp\n",
      "/home/S113062628/project/chip_llm/systemc_generation/dataset/geek/output/FindFactorialofaNumber.cpp/main.cpp\n",
      "/home/S113062628/project/chip_llm/systemc_generation/dataset/geek/output/CalculateFahrenheittoCelsius.cpp/main.cpp\n",
      "/home/S113062628/project/chip_llm/systemc_generation/dataset/geek/output/RotateMatrixElementsofaMatrix.cpp/main.cpp\n",
      "/home/S113062628/project/chip_llm/systemc_generation/dataset/geek/output/SortanArray_BubbleSort.cpp/main.cpp\n",
      "/home/S113062628/project/chip_llm/systemc_generation/dataset/geek/output/FindtheRootsoftheQuadraticEquation.cpp/main.cpp\n",
      "/home/S113062628/project/chip_llm/systemc_generation/dataset/geek/output/BinarytoDecimalConversion.cpp/main.cpp\n",
      "/home/S113062628/project/chip_llm/systemc_generation/dataset/geek/output/SortanArray_SelectionSort.cpp/main.cpp\n",
      "/home/S113062628/project/chip_llm/systemc_generation/dataset/geek/output/FindQuotientandRemainder.cpp/main.cpp\n",
      "/home/S113062628/project/chip_llm/systemc_generation/dataset/geek/output/FindtheDeterminantofaMatrix.cpp/main.cpp\n",
      "/home/S113062628/project/chip_llm/systemc_generation/dataset/geek/output/FindPowerWithoutUsingMultiplicationAndDivisionOperators.cpp/main.cpp\n",
      "/home/S113062628/project/chip_llm/systemc_generation/dataset/geek/output/SorttheElementsofanArrayinAscendingOrder.cpp/main.cpp\n",
      "/home/S113062628/project/chip_llm/systemc_generation/dataset/geek/output/DecimaltoOctalConversion.cpp/main.cpp\n",
      "/home/S113062628/project/chip_llm/systemc_generation/dataset/geek/output/RemoveLeadingZeros.cpp/main.cpp\n",
      "/home/S113062628/project/chip_llm/systemc_generation/dataset/geek/output/NumberofUniqueTripletsWhoseXORisZero.cpp/main.cpp\n",
      "/home/S113062628/project/chip_llm/systemc_generation/dataset/geek/output/FindSimpleInterest.cpp/main.cpp\n",
      "/home/S113062628/project/chip_llm/systemc_generation/dataset/geek/output/FindtheNormalandTraceofaMatrix.cpp/main.cpp\n",
      "/home/S113062628/project/chip_llm/systemc_generation/dataset/geek/output/CalculatethePowerofaNumber.cpp/main.cpp\n",
      "/home/S113062628/project/chip_llm/systemc_generation/dataset/geek/output/InterchangeElementsofFirstAndLastRowsinMatrix.cpp/main.cpp\n",
      "/home/S113062628/project/chip_llm/systemc_generation/dataset/geek/output/AreaAndPerimeterofRectangle.cpp/main.cpp\n",
      "/home/S113062628/project/chip_llm/systemc_generation/dataset/geek/output/DisplayArmstrongNumbersBetween1to1000.cpp/main.cpp\n",
      "/home/S113062628/project/chip_llm/systemc_generation/dataset/geek/output/FindLCM.cpp/main.cpp\n",
      "/home/S113062628/project/chip_llm/systemc_generation/dataset/geek/output/MakeaSimpleCalculator.cpp/main.cpp\n",
      "/home/S113062628/project/chip_llm/systemc_generation/dataset/geek/output/CheckWhetherTwoMatricesAreEqualorNot.cpp/main.cpp\n",
      "/home/S113062628/project/chip_llm/systemc_generation/dataset/geek/output/DecimaltoBinaryConversion.cpp/main.cpp\n",
      "/home/S113062628/project/chip_llm/systemc_generation/dataset/geek/output/CheckWhetheraNumberisaPalindromeorNot.cpp/main.cpp\n",
      "/home/S113062628/project/chip_llm/systemc_generation/dataset/geek/output/AddTwoNumbers.cpp/main.cpp\n",
      "/home/S113062628/project/chip_llm/systemc_generation/dataset/geek/output/ArrayRotation.cpp/main.cpp\n",
      "/home/S113062628/project/chip_llm/systemc_generation/dataset/geek/output/FindCompoundInterest.cpp/main.cpp\n",
      "/home/S113062628/project/chip_llm/systemc_generation/dataset/geek/output/CheckiftwoArraysareEqualornot.cpp/main.cpp\n",
      "/home/S113062628/project/chip_llm/systemc_generation/dataset/geek/output/HexadecimaltoDecimalConversion.cpp/main.cpp\n",
      "/home/S113062628/project/chip_llm/systemc_generation/dataset/geek/output/CheckArmstrongNumber.cpp/main.cpp\n",
      "/home/S113062628/project/chip_llm/systemc_generation/dataset/geek/output/FindtheMaximumandMinimuminanArray.cpp/main.cpp\n",
      "/home/S113062628/project/chip_llm/systemc_generation/dataset/geek/output/ComputetheSumofDiagonalsofaMatrix.cpp/main.cpp\n",
      "/home/S113062628/project/chip_llm/systemc_generation/dataset/geek/output/DisplayFactorsofaNaturalNumber.cpp/main.cpp\n",
      "/home/S113062628/project/chip_llm/systemc_generation/dataset/geek/output/SearchanElementinanArray_LinearSearch.cpp/main.cpp\n",
      "/home/S113062628/project/chip_llm/systemc_generation/dataset/geek/output/ReverseaNumber.cpp/main.cpp\n",
      "/home/S113062628/project/chip_llm/systemc_generation/dataset/geek/output/MultiplyTwoMatrices.cpp/main.cpp\n",
      "/home/S113062628/project/chip_llm/systemc_generation/dataset/geek/output/MergeTwoArrays.cpp/main.cpp\n",
      "/home/S113062628/project/chip_llm/systemc_generation/dataset/geek/output/RemoveDuplicateElementsFromanArray.cpp/main.cpp\n",
      "/home/S113062628/project/chip_llm/systemc_generation/dataset/geek/output/RemoveAllOccurrencesofanElementinanArray.cpp/main.cpp\n",
      "/home/S113062628/project/chip_llm/systemc_generation/dataset/geek/output/MultiplyTwoFloating-PointNumbers.cpp/main.cpp\n",
      "/home/S113062628/project/chip_llm/systemc_generation/dataset/geek/output/BinarytoOctalConversion.cpp/main.cpp\n",
      "/home/S113062628/project/chip_llm/systemc_generation/dataset/geek/output/AddTwoBinaryStrings.cpp/main.cpp\n",
      "/home/S113062628/project/chip_llm/systemc_generation/dataset/geek/output/FindLargestAmong3Numbers.cpp/main.cpp\n",
      "/home/S113062628/project/chip_llm/systemc_generation/dataset/geek/output/FindtheTransposeofaMatrix.cpp/main.cpp\n",
      "71\n"
     ]
    }
   ],
   "source": [
    "import os\n",
    "\n",
    "current_dir = os.getcwd()\n",
    "datapath = os.path.join(current_dir, \"dataset\", \"geek\", \"output\")\n",
    "\n",
    "count = 0\n",
    "\n",
    "for dir in os.listdir(datapath):\n",
    "    dir_path = os.path.join(datapath, dir)\n",
    "    if os.path.isdir(dir_path):\n",
    "        for file in os.listdir(dir_path):\n",
    "            file_path = os.path.join(dir_path, file)\n",
    "            if os.path.isfile(file_path) and file.endswith(\".cpp\"):\n",
    "                with open(file_path, \"r\") as f:\n",
    "                    code = f.read()\n",
    "                if \"test\" in code or \"testbench\" in code.lower():\n",
    "                    count += 1\n",
    "                    print(file_path)\n",
    "                else:\n",
    "                    print(\"Not a testbench: \", file_path)\n",
    "print(count)"
   ]
  },
  {
   "cell_type": "code",
   "execution_count": 7,
   "metadata": {},
   "outputs": [
    {
     "name": "stdout",
     "output_type": "stream",
     "text": [
      "[2025-03-19 16:25:24,053] [INFO] [real_accelerator.py:222:get_accelerator] Setting ds_accelerator to cuda (auto detect)\n"
     ]
    },
    {
     "name": "stderr",
     "output_type": "stream",
     "text": [
      "/home/S113062628/micromamba/envs/chip_llm/compiler_compat/ld: cannot find -laio: No such file or directory\n",
      "collect2: error: ld returned 1 exit status\n",
      "/home/S113062628/micromamba/envs/chip_llm/compiler_compat/ld: cannot find -lcufile: No such file or directory\n",
      "collect2: error: ld returned 1 exit status\n"
     ]
    },
    {
     "name": "stdout",
     "output_type": "stream",
     "text": [
      "0.16.3\n"
     ]
    }
   ],
   "source": [
    "import deepspeed\n",
    "\n",
    "print(deepspeed.__version__)"
   ]
  }
 ],
 "metadata": {
  "kernelspec": {
   "display_name": "Python 3",
   "language": "python",
   "name": "python3"
  },
  "language_info": {
   "codemirror_mode": {
    "name": "ipython",
    "version": 3
   },
   "file_extension": ".py",
   "mimetype": "text/x-python",
   "name": "python",
   "nbconvert_exporter": "python",
   "pygments_lexer": "ipython3",
   "version": "3.10.16"
  }
 },
 "nbformat": 4,
 "nbformat_minor": 2
}
