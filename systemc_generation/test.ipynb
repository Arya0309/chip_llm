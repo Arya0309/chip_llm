{
 "cells": [
  {
   "cell_type": "code",
   "execution_count": null,
   "metadata": {},
   "outputs": [
    {
     "name": "stdout",
     "output_type": "stream",
     "text": [
      "/home/S113062628/project/chip_llm/systemc_generation/dataset/geek/output/OctaltoDecimalConversion.cpp/main.cpp\n",
      "/home/S113062628/project/chip_llm/systemc_generation/dataset/geek/output/CalculateFahrenheittoCelsius.cpp/main.cpp\n",
      "/home/S113062628/project/chip_llm/systemc_generation/dataset/geek/output/RotateMatrixElementsofaMatrix.cpp/main.cpp\n",
      "/home/S113062628/project/chip_llm/systemc_generation/dataset/geek/output/MakeaSimpleCalculator.cpp/main.cpp\n",
      "4\n"
     ]
    }
   ],
   "source": [
    "import os\n",
    "\n",
    "current_dir = os.getcwd()\n",
    "datapath = os.path.join(current_dir, \"dataset\", \"geek\", \"output\")\n",
    "\n",
    "count = 0\n",
    "\n",
    "for dir in os.listdir(datapath):\n",
    "    dir_path = os.path.join(datapath, dir)\n",
    "    if os.path.isdir(dir_path):\n",
    "        for file in os.listdir(dir_path):\n",
    "            file_path = os.path.join(dir_path, file)\n",
    "            if os.path.isfile(file_path) and file.endswith(\".cpp\"):\n",
    "                with open(file_path, \"r\") as f:\n",
    "                    code = f.read()\n",
    "                if \"test\" in code or \"Test\" in code.lower():\n",
    "                    print(file_path)\n",
    "                    count += 1\n",
    "\n",
    "print(count)"
   ]
  }
 ],
 "metadata": {
  "kernelspec": {
   "display_name": "Python 3",
   "language": "python",
   "name": "python3"
  },
  "language_info": {
   "codemirror_mode": {
    "name": "ipython",
    "version": 3
   },
   "file_extension": ".py",
   "mimetype": "text/x-python",
   "name": "python",
   "nbconvert_exporter": "python",
   "pygments_lexer": "ipython3",
   "version": "3.10.16"
  }
 },
 "nbformat": 4,
 "nbformat_minor": 2
}
